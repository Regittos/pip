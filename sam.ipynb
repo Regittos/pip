{
 "cells": [
  {
   "cell_type": "code",
   "execution_count": null,
   "metadata": {},
   "outputs": [],
   "source": [
    "!pip install scikit-learn "
   ]
  },
  {
   "cell_type": "code",
   "execution_count": null,
   "metadata": {},
   "outputs": [],
   "source": [
    "import os\n",
    "import cv2\n",
    "import torch\n",
    "import numpy as np\n",
    "from segment_anything import SamPredictor, sam_model_registry\n",
    "from sklearn.metrics import jaccard_score\n",
    "import matplotlib.pyplot as plt\n",
    "\n",
    "# Configurações iniciais\n",
    "model_type = \"vit_h\"  # Tipo do modelo SAM\n",
    "sam_checkpoint = 'path/to/sam_vit_h.pth'  # Caminho para o checkpoint do modelo SAM\n",
    "image_folder = 'path/to/inria/images'  # Caminho para o diretório de imagens do dataset\n",
    "mask_folder = 'path/to/inria/masks'  # Caminho para o diretório de máscaras do dataset\n",
    "device = 'cuda' if torch.cuda.is_available() else 'cpu'\n"
   ]
  },
  {
   "cell_type": "code",
   "execution_count": null,
   "metadata": {},
   "outputs": [],
   "source": [
    "# Carregar o modelo SAM\n",
    "sam = sam_model_registry[model_type](checkpoint=sam_checkpoint)\n",
    "sam.to(device=device)\n",
    "predictor = SamPredictor(sam)\n"
   ]
  }
 ],
 "metadata": {
  "language_info": {
   "name": "python"
  }
 },
 "nbformat": 4,
 "nbformat_minor": 2
}
