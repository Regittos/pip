{
 "cells": [
  {
   "cell_type": "code",
   "execution_count": null,
   "metadata": {},
   "outputs": [],
   "source": [
    "import os\n",
    "from ultralytics import YOLO\n",
    "import matplotlib.pyplot as plt\n",
    "import cv2"
   ]
  },
  {
   "cell_type": "code",
   "execution_count": null,
   "metadata": {},
   "outputs": [],
   "source": [
    "\n",
    "dataset_path = 'path/to/pklot'\n",
    "train_images_path = os.path.join(dataset_path, 'train/images')\n",
    "val_images_path = os.path.join(dataset_path, 'val/images')"
   ]
  },
  {
   "cell_type": "code",
   "execution_count": null,
   "metadata": {},
   "outputs": [],
   "source": [
    "\n",
    "model = YOLO('yolov8n-seg.pt')  \n",
    "data_config = {\n",
    "    'train': train_images_path,\n",
    "    'val': val_images_path,\n",
    "    'nc': 2,  \n",
    "    'names': ['empty', 'occupied']  \n",
    "}"
   ]
  },
  {
   "cell_type": "code",
   "execution_count": null,
   "metadata": {},
   "outputs": [],
   "source": [
    "\n",
    "model.train(data=data_config, epochs=100, imgsz=640, batch=16, task='segment', project='pklot_segmentation')"
   ]
  },
  {
   "cell_type": "code",
   "execution_count": null,
   "metadata": {},
   "outputs": [],
   "source": [
    "def segment_and_visualize(image_path):\n",
    "    results = model(image_path)\n",
    "\n",
    "    results.show()\n",
    "    plt.imshow(cv2.cvtColor(results.ims[0], cv2.COLOR_BGR2RGB))\n",
    "    plt.title('Segmentação de Veículos')\n",
    "    plt.axis('off')\n",
    "    plt.show()\n"
   ]
  },
  {
   "cell_type": "code",
   "execution_count": null,
   "metadata": {},
   "outputs": [],
   "source": [
    "\n",
    "test_images = os.listdir(val_images_path)\n",
    "\n",
    "for image_name in test_images[:5]:  \n",
    "    image_path = os.path.join(val_images_path, image_name)\n",
    "    segment_and_visualize(image_path)\n"
   ]
  }
 ],
 "metadata": {
  "kernelspec": {
   "display_name": "a",
   "language": "python",
   "name": "python3"
  },
  "language_info": {
   "name": "python",
   "version": "3.11.9"
  }
 },
 "nbformat": 4,
 "nbformat_minor": 2
}
